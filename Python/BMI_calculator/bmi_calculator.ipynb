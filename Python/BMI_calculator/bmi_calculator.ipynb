{
 "cells": [
  {
   "cell_type": "markdown",
   "metadata": {},
   "source": [
    "# BMI Calculator"
   ]
  },
  {
   "cell_type": "code",
   "execution_count": 16,
   "metadata": {},
   "outputs": [],
   "source": [
    "name = input(\"Enter your name: \")\n",
    "\n",
    "age = int(input(\"Enter your age: \"))\n",
    "\n",
    "weight = float(input(\"Enter your weight in kg: \"))\n",
    "\n",
    "height = float(input(\"Enter your height in cm: \"))\n",
    "\n",
    "bmi = weight / (height ** 2)\n"
   ]
  },
  {
   "cell_type": "code",
   "execution_count": 17,
   "metadata": {},
   "outputs": [
    {
     "name": "stdout",
     "output_type": "stream",
     "text": [
      "Carlos\n",
      "33\n",
      "83.0\n",
      "1.8\n",
      "25.61728395061728\n"
     ]
    }
   ],
   "source": [
    "print(name)\n",
    "print(age)\n",
    "print(weight)\n",
    "print(height)\n",
    "print(bmi)"
   ]
  },
  {
   "cell_type": "code",
   "execution_count": 18,
   "metadata": {},
   "outputs": [
    {
     "name": "stdout",
     "output_type": "stream",
     "text": [
      " Carlos Overweight\n"
     ]
    }
   ],
   "source": [
    "if bmi > 0:\n",
    "    if bmi < 18.5:\n",
    "        print(f\" {name} Underweight\")\n",
    "    elif bmi <= 24.9:\n",
    "        print(f\" {name} Normal weight\")\n",
    "    elif bmi <= 29.9:\n",
    "        print(f\" {name} Overweight\")\n",
    "    elif bmi <= 34.9:\n",
    "        print(f\" {name}Obesity class 1\")\n",
    "    elif bmi <= 39.9:\n",
    "        print(f\" {name}Obesity class 2\")\n",
    "    else:\n",
    "        print(f\" {name}Obesity class 3\") "
   ]
  },
  {
   "cell_type": "code",
   "execution_count": null,
   "metadata": {},
   "outputs": [],
   "source": []
  }
 ],
 "metadata": {
  "kernelspec": {
   "display_name": "Python 3",
   "language": "python",
   "name": "python3"
  },
  "language_info": {
   "codemirror_mode": {
    "name": "ipython",
    "version": 3
   },
   "file_extension": ".py",
   "mimetype": "text/x-python",
   "name": "python",
   "nbconvert_exporter": "python",
   "pygments_lexer": "ipython3",
   "version": "3.10.12"
  }
 },
 "nbformat": 4,
 "nbformat_minor": 2
}
